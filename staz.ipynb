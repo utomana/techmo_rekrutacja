{
 "cells": [
  {
   "cell_type": "markdown",
   "metadata": {},
   "source": [
    "# Staż Techmo - zadania\n",
    "\n",
    "Poniżej znajdują się 3 zadania, które należy rozwiązać poprzez napisanie odpowiedniego kodu (w komórkach pod treścią zadania w pliku **staz.ipynb**), pozwalającego na wykonanie wymaganych w zadaniu obliczeń i prezentacje wyników. Przy rozwiązywaniu zadań można korzystać z dowolnych paczek dostępnych w managerze Pip np. numpy, pandas, librosa itp.\n",
    "\n",
    "Notebook z rozwiązaniem oraz dane wrzuć na swojego githuba razem z plikiem *requirements.txt* pozwalającym na łatwą instalacje wszystkich wymaganych paczek."
   ]
  },
  {
   "cell_type": "code",
   "execution_count": null,
   "metadata": {},
   "outputs": [],
   "source": []
  },
  {
   "cell_type": "markdown",
   "metadata": {},
   "source": [
    "## 1. Przetwarzanie sygnałów\n",
    "\n",
    "* Wczytaj plik dźwiękowy *audio.wav*\n",
    "* Wstaw widget z audioplayerem tak, aby można było odsłuchać plik\n",
    "* Narysuj **oscylogram**\n",
    "* Wyznacz i narysuj przebieg tonu podstawowego **F0**\n",
    "* Wyznacz i narysuj w skali decybelowej krótkoczasowe widmo sygnału (**STFT**). Dobierz odpowiednie wg Ciebie parametry analizy. Uzasadnij swój wybór.\n",
    "* Wyznacz i narysuj w skali decybelowej wartości **MFCC** (13 współczynników). Parametry analizy pozostaw takie jak w kroku poprzednim."
   ]
  },
  {
   "cell_type": "code",
   "execution_count": null,
   "metadata": {},
   "outputs": [],
   "source": []
  },
  {
   "cell_type": "markdown",
   "metadata": {},
   "source": []
  },
  {
   "cell_type": "markdown",
   "metadata": {},
   "source": [
    "## 2. Metryki\n",
    "\n",
    "W pliku *predicted.json* zapisane są wyniki rozpoznania systemu ASR, służącego do rozpoznawania cyfr.\n",
    "\n",
    "Dla każdej cyfry od 0 do 9 w słowniku przedstawione są wartości, jakie system rozpoznał dla kolejnych nagrań danej cyfry. \n",
    "\n",
    "Oblicz i przedstaw w formie tabeli **macierz pomyłek** (confusion matrix) oraz oblicz **skuteczność** systemu."
   ]
  },
  {
   "cell_type": "code",
   "execution_count": null,
   "metadata": {},
   "outputs": [],
   "source": []
  },
  {
   "cell_type": "code",
   "execution_count": null,
   "metadata": {},
   "outputs": [],
   "source": []
  },
  {
   "cell_type": "markdown",
   "metadata": {},
   "source": [
    "## 3. Algebra\n",
    "\n",
    "W plikach tekstowych `matrix_P.txt` oraz `matrix_Q.txt` znajduje się po 8 pomiarów 4-wymiarowej zmiennej (8 wierszy po 4 wartości).\n",
    "* Wczytaj macierze do osobnych zmiennych `P` , `Q`.\n",
    "* Korzystając z biblioteki `numpy` zaimplementuj funkcję obliczającą wzór:\n",
    "\n",
    "$$\n",
    "D_{KL}(P, Q) = \\frac{1}{2} \\mathrm{tr}\\{(\\boldsymbol{\\Sigma}_p^{-1} + \\boldsymbol{\\Sigma}_q^{-1})(\\boldsymbol{\\mu}_p - \\boldsymbol{\\mu}_q)(\\boldsymbol{\\mu}_p - \\boldsymbol{\\mu}_q)^T + \\boldsymbol{\\Sigma}_p \\boldsymbol{\\Sigma}_q^{-1} + \\boldsymbol{\\Sigma}_q \\boldsymbol{\\Sigma}_p^{-1} - 2 \\boldsymbol{I}\\}\n",
    "$$\n",
    "\n",
    "gdzie:\n",
    "\n",
    "$\\mathrm{tr}$ – ślad macierzy (trace)\n",
    "\n",
    "$\\boldsymbol{\\Sigma}$ – macierz kowariancji\n",
    "\n",
    "$\\boldsymbol{\\mu}$ – uśredniony wektor ze wszystkich pomiarów\n",
    "\n",
    "$\\boldsymbol{I}$ – macierz jednostkowa\n",
    "\n",
    "> Dla podanych danych funkcja powinna zwrócić wartość ok. 6.03"
   ]
  },
  {
   "cell_type": "code",
   "execution_count": null,
   "metadata": {},
   "outputs": [],
   "source": []
  },
  {
   "cell_type": "code",
   "execution_count": null,
   "metadata": {},
   "outputs": [],
   "source": []
  }
 ],
 "metadata": {
  "kernelspec": {
   "display_name": "Python 3",
   "language": "python",
   "name": "python3"
  },
  "language_info": {
   "codemirror_mode": {
    "name": "ipython",
    "version": 3
   },
   "file_extension": ".py",
   "mimetype": "text/x-python",
   "name": "python",
   "nbconvert_exporter": "python",
   "pygments_lexer": "ipython3",
   "version": "3.6.9"
  }
 },
 "nbformat": 4,
 "nbformat_minor": 4
}
